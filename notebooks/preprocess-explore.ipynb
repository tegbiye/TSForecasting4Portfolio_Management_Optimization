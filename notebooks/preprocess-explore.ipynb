{
 "cells": [
  {
   "cell_type": "code",
   "execution_count": 1,
   "id": "91d88b23",
   "metadata": {},
   "outputs": [],
   "source": [
    "import yfinance as yf\n",
    "import pandas as pd\n",
    "import numpy as np\n",
    "import matplotlib.pyplot as plt\n",
    "from statsmodels.tsa.stattools import adfuller\n",
    "import warnings\n",
    "warnings.filterwarnings(\"ignore\")\n",
    "import sys\n",
    "import os"
   ]
  },
  {
   "cell_type": "markdown",
   "id": "a463b2a7",
   "metadata": {},
   "source": [
    "### 1. Load Data"
   ]
  },
  {
   "cell_type": "code",
   "execution_count": 5,
   "id": "9bda0aa0",
   "metadata": {},
   "outputs": [
    {
     "name": "stderr",
     "output_type": "stream",
     "text": [
      "[*********************100%***********************]  3 of 3 completed\n"
     ]
    }
   ],
   "source": [
    "tickers = ['TSLA', 'BND', 'SPY']\n",
    "start_date = '2015-07-01'\n",
    "end_date = '2025-07-31'\n",
    "data =yf.download(tickers, start=start_date, end=end_date)"
   ]
  },
  {
   "cell_type": "code",
   "execution_count": 7,
   "id": "097bcd99",
   "metadata": {},
   "outputs": [
    {
     "data": {
      "text/plain": [
       "(2535, 15)"
      ]
     },
     "execution_count": 7,
     "metadata": {},
     "output_type": "execute_result"
    }
   ],
   "source": [
    "data.shape"
   ]
  },
  {
   "cell_type": "code",
   "execution_count": null,
   "id": "9ac8d25a",
   "metadata": {},
   "outputs": [],
   "source": [
    "## Save the dataset\n",
    "data.to_csv('../data/raw/hist_finance_data.csv')"
   ]
  },
  {
   "cell_type": "code",
   "execution_count": 9,
   "id": "62dd600b",
   "metadata": {},
   "outputs": [],
   "source": [
    "sys.path.append(os.path.abspath('../src/'))"
   ]
  },
  {
   "cell_type": "code",
   "execution_count": null,
   "id": "d009f18e",
   "metadata": {},
   "outputs": [],
   "source": [
    "from preprocess import data_loader\n",
    "df = load_data('../data/raw/historic')"
   ]
  },
  {
   "cell_type": "markdown",
   "id": "65fe472a",
   "metadata": {},
   "source": [
    "### 2. Data Cleaning"
   ]
  },
  {
   "cell_type": "code",
   "execution_count": null,
   "id": "c8931dd8",
   "metadata": {},
   "outputs": [],
   "source": [
    "\n",
    "for ticker in tickers:\n",
    "    df = data[ticker]\n",
    "    # Ensure no missing values\n",
    "    if df.isnull().any().any():\n",
    "        df = df.fillna(method='ffill')  # Forward fill for missing values\n",
    "    # Verify data types\n",
    "    df[['Open', 'High', 'Low', 'Close', 'Adj Close']] = df[['Open', 'High', 'Low', 'Close', 'Adj Close']].astype(float)\n",
    "    df['Volume'] = df['Volume'].astype(int)\n",
    "    data[ticker] = df.sort_index()"
   ]
  },
  {
   "cell_type": "markdown",
   "id": "12067ac2",
   "metadata": {},
   "source": [
    "### 3. Descriptive Statistics"
   ]
  },
  {
   "cell_type": "code",
   "execution_count": null,
   "id": "413e9ce3",
   "metadata": {},
   "outputs": [],
   "source": [
    "stats = {ticker: data[ticker][['Open', 'High', 'Low', 'Close', 'Adj Close', 'Volume']].describe() for ticker in tickers}\n",
    "for ticker, stat in stats.items():\n",
    "    print(f\"\\n{ticker} Statistics:\")\n",
    "    print(stat)"
   ]
  },
  {
   "cell_type": "markdown",
   "id": "d42251e3",
   "metadata": {},
   "source": [
    "### 4. Calculate daily returns"
   ]
  },
  {
   "cell_type": "code",
   "execution_count": null,
   "id": "ad14bd7e",
   "metadata": {},
   "outputs": [],
   "source": [
    "for ticker in tickers:\n",
    "    data[ticker]['Daily Return'] = data[ticker]['Adj Close'].pct_change()\n",
    "    print(f\"\\n{ticker} Daily Return Statistics:\")\n",
    "    print(data[ticker]['Daily Return'].describe())"
   ]
  }
 ],
 "metadata": {
  "kernelspec": {
   "display_name": ".tsenv",
   "language": "python",
   "name": "python3"
  },
  "language_info": {
   "codemirror_mode": {
    "name": "ipython",
    "version": 3
   },
   "file_extension": ".py",
   "mimetype": "text/x-python",
   "name": "python",
   "nbconvert_exporter": "python",
   "pygments_lexer": "ipython3",
   "version": "3.12.10"
  }
 },
 "nbformat": 4,
 "nbformat_minor": 5
}
