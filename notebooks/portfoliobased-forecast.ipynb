{
 "cells": [
  {
   "cell_type": "markdown",
   "id": "1b09d8af",
   "metadata": {},
   "source": [
    "### Import libraries"
   ]
  },
  {
   "cell_type": "code",
   "execution_count": 19,
   "id": "c0ee831c",
   "metadata": {},
   "outputs": [],
   "source": [
    "import pandas as pd\n",
    "import numpy as np\n",
    "import matplotlib.pyplot as plt\n",
    "import yfinance as yf\n",
    "from datetime import datetime, timedelta\n",
    "import cvxpy as cp\n",
    "import os\n",
    "import sys"
   ]
  },
  {
   "cell_type": "code",
   "execution_count": 20,
   "id": "c444928a",
   "metadata": {},
   "outputs": [],
   "source": [
    "sys.path.append(os.path.abspath('../src'))"
   ]
  },
  {
   "cell_type": "code",
   "execution_count": 21,
   "id": "049530ab",
   "metadata": {},
   "outputs": [],
   "source": [
    "from preprocess import data_loader"
   ]
  },
  {
   "cell_type": "markdown",
   "id": "1868c4f7",
   "metadata": {},
   "source": [
    "### Step 1: Load Historical Data"
   ]
  },
  {
   "cell_type": "code",
   "execution_count": 37,
   "id": "97a194c6",
   "metadata": {},
   "outputs": [
    {
     "name": "stdout",
     "output_type": "stream",
     "text": [
      "CSV Head:\n",
      "          Date  BND_Close   SPY_Close  TSLA_Close\n",
      "0  2015-07-01  60.816738  174.917084   17.943333\n",
      "1  2015-07-02  60.967102  174.756943   18.667999\n",
      "2  2015-07-03  61.019717  174.632603   18.663000\n",
      "3  2015-07-06  61.177563  174.259583   18.648001\n",
      "4  2015-07-07  61.237713  175.355423   17.858667\n",
      "CSV Tail:\n",
      "             Date  BND_Close   SPY_Close  TSLA_Close\n",
      "2626  2025-07-24  72.698860  634.419983  305.299988\n",
      "2627  2025-07-25  72.878265  637.099976  316.059998\n",
      "2628  2025-07-28  72.758659  636.940002  325.589996\n",
      "2629  2025-07-29  73.137398  635.260010  321.200012\n",
      "2630  2025-07-30  72.948036  634.460022  319.040009\n",
      "Data Types:\n",
      " Date           object\n",
      "BND_Close     float64\n",
      "SPY_Close     float64\n",
      "TSLA_Close    float64\n",
      "dtype: object\n"
     ]
    }
   ],
   "source": [
    "# Step 1: Load Historical Data\n",
    "# Load CSV with explicit date parsing and numeric conversion\n",
    "df = data_loader('../data/processed/clean_close_prices_for_analysis.csv')\n",
    "print(\"CSV Head:\\n\", df.head())\n",
    "print(\"CSV Tail:\\n\", df.tail())\n",
    "print(\"Data Types:\\n\", df.dtypes)"
   ]
  },
  {
   "cell_type": "code",
   "execution_count": 38,
   "id": "9139af8b",
   "metadata": {},
   "outputs": [],
   "source": [
    "# Convert price columns to numeric, coercing errors to NaN\n",
    "for col in ['BND_Close', 'SPY_Close', 'TSLA_Close']:\n",
    "    df[col] = pd.to_numeric(df[col], errors='coerce')\n",
    "\n",
    "# Drop rows with any NaN values in price columns\n",
    "df = df.dropna(subset=['BND_Close', 'SPY_Close', 'TSLA_Close'])\n",
    "\n",
    "# Set index to Date\n",
    "df = df.set_index('Date')"
   ]
  },
  {
   "cell_type": "code",
   "execution_count": 39,
   "id": "bb43cc9a",
   "metadata": {},
   "outputs": [
    {
     "name": "stdout",
     "output_type": "stream",
     "text": [
      "Returns Head:\n",
      "             BND_Close  SPY_Close  TSLA_Close\n",
      "Date                                        \n",
      "2015-07-02   0.002472  -0.000916    0.040386\n",
      "2015-07-03   0.000863  -0.000712   -0.000268\n",
      "2015-07-06   0.002587  -0.002136   -0.000804\n",
      "2015-07-07   0.000983   0.006289   -0.042328\n",
      "2015-07-08   0.002823  -0.016777   -0.048231\n",
      "<class 'pandas.core.frame.DataFrame'>\n",
      "Index: 2630 entries, 2015-07-02 to 2025-07-30\n",
      "Data columns (total 3 columns):\n",
      " #   Column      Non-Null Count  Dtype  \n",
      "---  ------      --------------  -----  \n",
      " 0   BND_Close   2630 non-null   float64\n",
      " 1   SPY_Close   2630 non-null   float64\n",
      " 2   TSLA_Close  2630 non-null   float64\n",
      "dtypes: float64(3)\n",
      "memory usage: 82.2+ KB\n",
      "Returns Info:\n",
      " None\n"
     ]
    }
   ],
   "source": [
    "# Calculate daily returns\n",
    "returns = df.pct_change().dropna()\n",
    "print(\"Returns Head:\\n\", returns.head())\n",
    "print(\"Returns Info:\\n\", returns.info())"
   ]
  },
  {
   "cell_type": "markdown",
   "id": "97176e60",
   "metadata": {},
   "source": [
    "### Step 2: Forecast TSLA Return Using LSTM (Simplified from Task 3)"
   ]
  },
  {
   "cell_type": "code",
   "execution_count": 40,
   "id": "ceb3ef0b",
   "metadata": {},
   "outputs": [
    {
     "name": "stderr",
     "output_type": "stream",
     "text": [
      "C:\\Users\\ASTU-PG\\AppData\\Local\\Temp\\ipykernel_12056\\2007286219.py:2: FutureWarning: Series.__getitem__ treating keys as positions is deprecated. In a future version, integer keys will always be treated as labels (consistent with DataFrame behavior). To access a value by position, use `ser.iloc[pos]`\n",
      "  last_price = df['TSLA_Close'][-1]  # Latest price (e.g., ~$319 from July 30, 2025)\n"
     ]
    }
   ],
   "source": [
    "forecast_days = 252  # 12 months of business days\n",
    "last_price = df['TSLA_Close'][-1]  # Latest price (e.g., ~$319 from July 30, 2025)\n",
    "# Simulate LSTM forecast based on Task 3 trend (upward to $380-$400)\n",
    "expected_annual_return_tsla = 0.20  # 20% annualized (e.g., $319 to ~$383)"
   ]
  },
  {
   "cell_type": "code",
   "execution_count": 61,
   "id": "0a9f01fc",
   "metadata": {},
   "outputs": [
    {
     "data": {
      "text/plain": [
       "Date\n",
       "2015-07-01     17.943333\n",
       "2015-07-02     18.667999\n",
       "2015-07-03     18.663000\n",
       "2015-07-06     18.648001\n",
       "2015-07-07     17.858667\n",
       "                 ...    \n",
       "2025-07-24    305.299988\n",
       "2025-07-25    316.059998\n",
       "2025-07-28    325.589996\n",
       "2025-07-29    321.200012\n",
       "2025-07-30    319.040009\n",
       "Name: TSLA_Close, Length: 2631, dtype: float64"
      ]
     },
     "execution_count": 61,
     "metadata": {},
     "output_type": "execute_result"
    }
   ],
   "source": [
    "df['TSLA_Close']"
   ]
  },
  {
   "cell_type": "markdown",
   "id": "52993164",
   "metadata": {},
   "source": [
    "### Step 3: Compute Expected Returns"
   ]
  },
  {
   "cell_type": "code",
   "execution_count": 44,
   "id": "5e29dd71",
   "metadata": {},
   "outputs": [
    {
     "name": "stdout",
     "output_type": "stream",
     "text": [
      "Expected Annual Returns: TSLA    0.200000\n",
      "BND     0.018862\n",
      "SPY     0.139333\n",
      "dtype: float64\n"
     ]
    }
   ],
   "source": [
    "\n",
    "# Step 3: Compute Expected Returns\n",
    "# Historical annualized returns for BND and SPY\n",
    "annual_returns = returns.mean() * 252  # Annualize daily returns\n",
    "expected_returns = pd.Series({\n",
    "    'TSLA': expected_annual_return_tsla,\n",
    "    'BND': annual_returns['BND_Close'],\n",
    "    'SPY': annual_returns['SPY_Close']\n",
    "})\n",
    "print(\"Expected Annual Returns:\", expected_returns)\n"
   ]
  },
  {
   "cell_type": "markdown",
   "id": "5b6a561e",
   "metadata": {},
   "source": [
    "### Step 4: Compute Covariance Matrix"
   ]
  },
  {
   "cell_type": "code",
   "execution_count": 45,
   "id": "fb978e28",
   "metadata": {},
   "outputs": [
    {
     "name": "stdout",
     "output_type": "stream",
     "text": [
      "Annualized Covariance Matrix:\n",
      "             BND_Close  SPY_Close  TSLA_Close\n",
      "BND_Close    0.002863   0.001106    0.001794\n",
      "SPY_Close    0.001106   0.031607    0.049999\n",
      "TSLA_Close   0.001794   0.049999    0.329431\n"
     ]
    }
   ],
   "source": [
    "# Step 4: Compute Covariance Matrix\n",
    "cov_matrix = returns.cov() * 252  # Annualize covariance\n",
    "print(\"Annualized Covariance Matrix:\\n\", cov_matrix)\n"
   ]
  },
  {
   "cell_type": "markdown",
   "id": "6ec2f5e0",
   "metadata": {},
   "source": [
    "### Step 5: Optimize Efficient Frontier"
   ]
  },
  {
   "cell_type": "code",
   "execution_count": 47,
   "id": "3e31b9da",
   "metadata": {},
   "outputs": [],
   "source": [
    "# Step 5: Optimize Efficient Frontier\n",
    "\n",
    "# Ensure consistent order for tickers, expected_returns, and cov_matrix\n",
    "tickers = ['TSLA', 'BND', 'SPY']\n",
    "expected_returns_vec = expected_returns[tickers].values\n",
    "cov_matrix_arr = cov_matrix.loc[[f\"{t}_Close\" for t in tickers], [f\"{t}_Close\" for t in tickers]].values\n",
    "\n",
    "n_assets = len(tickers)\n",
    "weights = cp.Variable(n_assets)\n",
    "gamma = cp.Parameter(nonneg=True)  # Risk aversion parameter\n",
    "ret = expected_returns_vec @ weights\n",
    "risk = cp.quad_form(weights, cov_matrix_arr)\n",
    "objective = cp.Maximize(ret - gamma * risk)\n",
    "constraints = [cp.sum(weights) == 1, weights >= 0]\n",
    "problem = cp.Problem(objective, constraints)\n",
    "\n",
    "# Generate Efficient Frontier\n",
    "risk_levels = np.linspace(0.05, 0.25, 100)  # Range of volatilities\n",
    "returns_frontier = []\n",
    "volatilities = []\n",
    "for risk_target in risk_levels:\n",
    "    gamma.value = 1 / (2 * risk_target**2)  # Adjust gamma for risk target\n",
    "    problem.solve()\n",
    "    if problem.status == 'optimal':\n",
    "        w = weights.value\n",
    "        portfolio_return = expected_returns_vec @ w\n",
    "        portfolio_volatility = np.sqrt(w.T @ cov_matrix_arr @ w)\n",
    "        returns_frontier.append(portfolio_return)\n",
    "        volatilities.append(portfolio_volatility)\n"
   ]
  },
  {
   "cell_type": "markdown",
   "id": "774b9794",
   "metadata": {},
   "source": [
    "### Step 6: Identify Key Portfolios"
   ]
  },
  {
   "cell_type": "code",
   "execution_count": 49,
   "id": "6eb3f144",
   "metadata": {},
   "outputs": [],
   "source": [
    "# Step 6: Identify Key Portfolios\n",
    "# Maximum Sharpe Ratio Portfolio (Tangency Portfolio)\n",
    "risk_free_rate = 0.02  # Approx. 2% risk-free rate (e.g., 10-year Treasury yield)\n",
    "sharpe_ratios = [(r - risk_free_rate) / v for r, v in zip(returns_frontier, volatilities)]\n",
    "max_sharpe_idx = np.argmax(sharpe_ratios)\n",
    "max_sharpe_weight = weights.value.copy()\n",
    "max_sharpe_return = returns_frontier[max_sharpe_idx]\n",
    "max_sharpe_vol = volatilities[max_sharpe_idx]\n",
    "max_sharpe_sharpe = sharpe_ratios[max_sharpe_idx]\n",
    "\n",
    "# Minimum Volatility Portfolio\n",
    "min_vol_idx = np.argmin(volatilities)\n",
    "min_vol_weight = weights.value.copy()\n",
    "min_vol_return = returns_frontier[min_vol_idx]\n",
    "min_vol_vol = volatilities[min_vol_idx]"
   ]
  },
  {
   "cell_type": "markdown",
   "id": "661ef505",
   "metadata": {},
   "source": [
    "### Step 7: Plot Efficient Frontier"
   ]
  },
  {
   "cell_type": "code",
   "execution_count": 50,
   "id": "9a0f3b02",
   "metadata": {},
   "outputs": [
    {
     "data": {
      "image/png": "[encoded data removed]",
      "text/plain": [
       "<Figure size 1000x600 with 1 Axes>"
      ]
     },
     "metadata": {},
     "output_type": "display_data"
    }
   ],
   "source": [
    "# Step 7: Plot Efficient Frontier\n",
    "plt.figure(figsize=(10, 6))\n",
    "plt.scatter(volatilities, returns_frontier, c='blue', label='Efficient Frontier')\n",
    "plt.scatter(max_sharpe_vol, max_sharpe_return, c='red', label=f'Max Sharpe Ratio (Return={max_sharpe_return:.2%}, Vol={max_sharpe_vol:.2%})')\n",
    "plt.scatter(min_vol_vol, min_vol_return, c='green', label=f'Min Volatility (Return={min_vol_return:.2%}, Vol={min_vol_vol:.2%})')\n",
    "plt.xlabel('Annualized Volatility')\n",
    "plt.ylabel('Annualized Return')\n",
    "plt.title('Efficient Frontier for TSLA, BND, SPY Portfolio')\n",
    "plt.legend()\n",
    "plt.grid()\n",
    "plt.show()"
   ]
  },
  {
   "cell_type": "markdown",
   "id": "cb6169ef",
   "metadata": {},
   "source": [
    "### Step 8: Recommend Optimal Portfolio"
   ]
  },
  {
   "cell_type": "code",
   "execution_count": 53,
   "id": "2732c848",
   "metadata": {},
   "outputs": [],
   "source": [
    "# Step 8: Recommend Optimal Portfolio\n",
    "# Recommend Maximum Sharpe Ratio Portfolio for risk-adjusted return\n",
    "optimal_weights = max_sharpe_weight\n",
    "optimal_return = max_sharpe_return\n",
    "optimal_vol = max_sharpe_vol\n",
    "optimal_sharpe = max_sharpe_sharpe"
   ]
  },
  {
   "cell_type": "markdown",
   "id": "bf1bf037",
   "metadata": {},
   "source": [
    "### Step 9: Summarize Recommended Portfolio"
   ]
  },
  {
   "cell_type": "code",
   "execution_count": 54,
   "id": "7ba3895c",
   "metadata": {},
   "outputs": [
    {
     "name": "stdout",
     "output_type": "stream",
     "text": [
      "\n",
      "Recommended Portfolio: Maximum Sharpe Ratio Portfolio\n",
      "Optimal Weights: TSLA=-0.00%, BND=71.21%, SPY=28.79%\n",
      "Expected Annual Return: 5.35%\n",
      "Annualized Volatility: 6.73%\n",
      "Sharpe Ratio: 0.50\n"
     ]
    }
   ],
   "source": [
    "# Step 9: Summarize Recommended Portfolio\n",
    "print(\"\\nRecommended Portfolio: Maximum Sharpe Ratio Portfolio\")\n",
    "print(f\"Optimal Weights: TSLA={optimal_weights[0]:.2%}, BND={optimal_weights[1]:.2%}, SPY={optimal_weights[2]:.2%}\")\n",
    "print(f\"Expected Annual Return: {optimal_return:.2%}\")\n",
    "print(f\"Annualized Volatility: {optimal_vol:.2%}\")\n",
    "print(f\"Sharpe Ratio: {optimal_sharpe:.2f}\")"
   ]
  }
 ],
 "metadata": {
  "kernelspec": {
   "display_name": ".tsenv",
   "language": "python",
   "name": "python3"
  },
  "language_info": {
   "codemirror_mode": {
    "name": "ipython",
    "version": 3
   },
   "file_extension": ".py",
   "mimetype": "text/x-python",
   "name": "python",
   "nbconvert_exporter": "python",
   "pygments_lexer": "ipython3",
   "version": "3.12.10"
  }
 },
 "nbformat": 4,
 "nbformat_minor": 5
}
