{
 "cells": [
  {
   "cell_type": "markdown",
   "id": "8f6b33fb",
   "metadata": {},
   "source": [
    "### 1. Import libraries"
   ]
  },
  {
   "cell_type": "code",
   "execution_count": 84,
   "id": "f68f76ef",
   "metadata": {},
   "outputs": [],
   "source": [
    "import yfinance as yf\n",
    "import pandas as pd\n",
    "import numpy as np\n",
    "import matplotlib.pyplot as plt\n",
    "from statsmodels.tsa.statespace.sarimax import SARIMAX\n",
    "from pmdarima import auto_arima\n",
    "from sklearn.metrics import mean_absolute_error, mean_squared_error\n",
    "from sklearn.preprocessing import MinMaxScaler\n",
    "import torch\n",
    "import torch.nn as nn\n",
    "from torch.utils.data import Dataset, DataLoader\n",
    "from datetime import datetime\n",
    "\n",
    "import os\n",
    "import sys\n",
    "import warnings\n",
    "\n",
    "warnings.filterwarnings(\"ignore\")"
   ]
  },
  {
   "cell_type": "code",
   "execution_count": 85,
   "id": "8ab68031",
   "metadata": {},
   "outputs": [],
   "source": [
    "sys.path.append(os.path.abspath('../src/'))"
   ]
  },
  {
   "cell_type": "markdown",
   "id": "2858f4cf",
   "metadata": {},
   "source": [
    "#### Step 1: Load and Preprocess Data"
   ]
  },
  {
   "cell_type": "code",
   "execution_count": 86,
   "id": "f8e647ca",
   "metadata": {},
   "outputs": [],
   "source": [
    "from preprocess import data_loader\n"
   ]
  },
  {
   "cell_type": "code",
   "execution_count": 87,
   "id": "7566bb74",
   "metadata": {},
   "outputs": [],
   "source": [
    "# Step 1: Load and Process Data\n",
    "tickers = 'TSLA'\n",
    "start_date = '2015-07-01'\n",
    "#end_date = datetime.now().strftime('%Y-%m-%d')  # Up to current date\n",
    "data = data_loader('../data/processed/clean_close_prices_for_analysis.csv')\n"
   ]
  },
  {
   "cell_type": "code",
   "execution_count": 88,
   "id": "bebcbab8",
   "metadata": {},
   "outputs": [
    {
     "name": "stdout",
     "output_type": "stream",
     "text": [
      "Invalid Date entries:\n",
      " Empty DataFrame\n",
      "Columns: [Date, TSLA_Close]\n",
      "Index: []\n"
     ]
    }
   ],
   "source": [
    "# Convert Date to datetime, drop invalid rows\n",
    "data['Date'] = pd.to_datetime(data['Date'], errors='coerce')\n",
    "print(\"Invalid Date entries:\\n\", data[data['Date'].isna()][['Date', 'TSLA_Close']])\n",
    "data = data.dropna(subset=['Date'])"
   ]
  },
  {
   "cell_type": "code",
   "execution_count": 89,
   "id": "beb651ba",
   "metadata": {},
   "outputs": [],
   "source": [
    "tsla_close = data.set_index('Date')['TSLA_Close']"
   ]
  },
  {
   "cell_type": "code",
   "execution_count": 90,
   "id": "6e97cbf3",
   "metadata": {},
   "outputs": [
    {
     "data": {
      "text/plain": [
       "Date\n",
       "2015-07-01    17.943333\n",
       "2015-07-02    18.667999\n",
       "2015-07-03    18.663000\n",
       "2015-07-06    18.648001\n",
       "2015-07-07    17.858667\n",
       "Name: TSLA_Close, dtype: float64"
      ]
     },
     "execution_count": 90,
     "metadata": {},
     "output_type": "execute_result"
    }
   ],
   "source": [
    "tsla_close.head()"
   ]
  },
  {
   "cell_type": "code",
   "execution_count": 91,
   "id": "0a182707",
   "metadata": {},
   "outputs": [
    {
     "name": "stdout",
     "output_type": "stream",
     "text": [
      "Index type: <class 'pandas.core.indexes.datetimes.DatetimeIndex'>\n"
     ]
    }
   ],
   "source": [
    "# Verify index type\n",
    "print(\"Index type:\", type(tsla_close.index))  # Should be DatetimeIndex\n",
    "if not isinstance(tsla_close.index, pd.DatetimeIndex):\n",
    "    raise ValueError(\"Index is not a DatetimeIndex. Check CSV loading and index setting.\")"
   ]
  },
  {
   "cell_type": "markdown",
   "id": "9569d2ef",
   "metadata": {},
   "source": [
    "### 2. Split Data: Train (2015-2023), Test (2024-2025)"
   ]
  },
  {
   "cell_type": "code",
   "execution_count": 98,
   "id": "42dfc16a",
   "metadata": {},
   "outputs": [
    {
     "name": "stdout",
     "output_type": "stream",
     "text": [
      "Train shape: (2218,), Test shape: (413,)\n"
     ]
    }
   ],
   "source": [
    "# 2. Split Data: Train (2015-2023), Test (2024-2025)\n",
    "train_end = '2023-12-31'\n",
    "test_start = '2024-01-01'\n",
    "train = tsla_close[:train_end]\n",
    "test = tsla_close[test_start:'2025-07-31']\n",
    "print(f\"Train shape: {train.shape}, Test shape: {test.shape}\")"
   ]
  },
  {
   "cell_type": "code",
   "execution_count": 99,
   "id": "0f1c2b22",
   "metadata": {},
   "outputs": [
    {
     "data": {
      "text/plain": [
       "Date\n",
       "2015-07-01     17.943333\n",
       "2015-07-02     18.667999\n",
       "2015-07-03     18.663000\n",
       "2015-07-06     18.648001\n",
       "2015-07-07     17.858667\n",
       "                 ...    \n",
       "2025-07-24    305.299988\n",
       "2025-07-25    316.059998\n",
       "2025-07-28    325.589996\n",
       "2025-07-29    321.200012\n",
       "2025-07-30    319.040009\n",
       "Name: TSLA_Close, Length: 2631, dtype: float64"
      ]
     },
     "execution_count": 99,
     "metadata": {},
     "output_type": "execute_result"
    }
   ],
   "source": [
    "tsla_close"
   ]
  },
  {
   "cell_type": "code",
   "execution_count": 100,
   "id": "5bf5a335",
   "metadata": {},
   "outputs": [
    {
     "name": "stdout",
     "output_type": "stream",
     "text": [
      "Performing stepwise search to minimize aic\n",
      " ARIMA(0,1,0)(0,1,0)[5]             : AIC=15599.522, Time=0.23 sec\n",
      " ARIMA(1,1,0)(1,1,0)[5]             : AIC=14975.053, Time=0.37 sec\n",
      " ARIMA(0,1,1)(0,1,1)[5]             : AIC=inf, Time=1.32 sec\n",
      " ARIMA(1,1,0)(0,1,0)[5]             : AIC=15593.827, Time=0.20 sec\n",
      " ARIMA(1,1,0)(2,1,0)[5]             : AIC=14701.695, Time=0.69 sec\n",
      " ARIMA(1,1,0)(2,1,1)[5]             : AIC=inf, Time=2.26 sec\n",
      " ARIMA(1,1,0)(1,1,1)[5]             : AIC=inf, Time=1.23 sec\n",
      " ARIMA(0,1,0)(2,1,0)[5]             : AIC=14701.654, Time=0.46 sec\n",
      " ARIMA(0,1,0)(1,1,0)[5]             : AIC=14980.012, Time=0.29 sec\n",
      " ARIMA(0,1,0)(2,1,1)[5]             : AIC=inf, Time=1.58 sec\n",
      " ARIMA(0,1,0)(1,1,1)[5]             : AIC=inf, Time=0.98 sec\n",
      " ARIMA(0,1,1)(2,1,0)[5]             : AIC=14701.730, Time=0.63 sec\n",
      " ARIMA(1,1,1)(2,1,0)[5]             : AIC=14698.482, Time=1.67 sec\n",
      " ARIMA(1,1,1)(1,1,0)[5]             : AIC=14968.679, Time=0.81 sec\n",
      " ARIMA(1,1,1)(2,1,1)[5]             : AIC=inf, Time=4.67 sec\n",
      " ARIMA(1,1,1)(1,1,1)[5]             : AIC=inf, Time=3.49 sec\n",
      " ARIMA(2,1,1)(2,1,0)[5]             : AIC=14699.611, Time=1.73 sec\n",
      " ARIMA(1,1,2)(2,1,0)[5]             : AIC=14699.425, Time=1.95 sec\n",
      " ARIMA(0,1,2)(2,1,0)[5]             : AIC=14703.586, Time=0.66 sec\n",
      " ARIMA(2,1,0)(2,1,0)[5]             : AIC=14703.494, Time=0.77 sec\n",
      " ARIMA(2,1,2)(2,1,0)[5]             : AIC=inf, Time=5.03 sec\n",
      " ARIMA(1,1,1)(2,1,0)[5] intercept   : AIC=14700.482, Time=4.60 sec\n",
      "\n",
      "Best model:  ARIMA(1,1,1)(2,1,0)[5]          \n",
      "Total fit time: 35.644 seconds\n"
     ]
    }
   ],
   "source": [
    "# Step 2: SARIMA Model\n",
    "model_auto = auto_arima(train, seasonal=True, m=5,\n",
    "                        start_p=0, start_q=0, max_p=3, max_q=3,\n",
    "                        start_P=0, start_Q=0, max_P=2, max_Q=2,\n",
    "                        d=1, D=1, trace=True, error_action='ignore', \n",
    "                        suppress_warnings=True, maxiter=50)"
   ]
  },
  {
   "cell_type": "code",
   "execution_count": 101,
   "id": "23768831",
   "metadata": {},
   "outputs": [],
   "source": [
    "# Fit SARIMA\n",
    "p, d, q = model_auto.order\n",
    "P, D, Q, s = model_auto.seasonal_order\n",
    "sarima_model = SARIMAX(train, order=(p, d, q), seasonal_order=(P, D, Q, s))\n",
    "sarima_fit = sarima_model.fit(disp=False)"
   ]
  },
  {
   "cell_type": "code",
   "execution_count": 102,
   "id": "145ad9da",
   "metadata": {},
   "outputs": [],
   "source": [
    "# Forecast\n",
    "sarima_forecast = sarima_fit.get_forecast(steps=len(test))\n",
    "sarima_pred = sarima_forecast.predicted_mean\n",
    "sarima_conf = sarima_forecast.conf_int()"
   ]
  },
  {
   "cell_type": "code",
   "execution_count": 103,
   "id": "0e668a65",
   "metadata": {},
   "outputs": [
    {
     "data": {
      "text/plain": [
       "2024-01-01    247.195518\n",
       "2024-01-02    248.586600\n",
       "2024-01-03    247.555053\n",
       "2024-01-04    251.276460\n",
       "2024-01-05    249.761452\n",
       "                 ...    \n",
       "2025-07-24    184.250552\n",
       "2025-07-25    181.620064\n",
       "2025-07-28    181.780586\n",
       "2025-07-29    183.660278\n",
       "2025-07-30    183.037573\n",
       "Freq: B, Name: predicted_mean, Length: 413, dtype: float64"
      ]
     },
     "execution_count": 103,
     "metadata": {},
     "output_type": "execute_result"
    }
   ],
   "source": [
    "sarima_pred"
   ]
  },
  {
   "cell_type": "code",
   "execution_count": 105,
   "id": "937cfd1c",
   "metadata": {},
   "outputs": [
    {
     "data": {
      "text/html": [
       "<div>\n",
       "<style scoped>\n",
       "    .dataframe tbody tr th:only-of-type {\n",
       "        vertical-align: middle;\n",
       "    }\n",
       "\n",
       "    .dataframe tbody tr th {\n",
       "        vertical-align: top;\n",
       "    }\n",
       "\n",
       "    .dataframe thead th {\n",
       "        text-align: right;\n",
       "    }\n",
       "</style>\n",
       "<table border=\"1\" class=\"dataframe\">\n",
       "  <thead>\n",
       "    <tr style=\"text-align: right;\">\n",
       "      <th></th>\n",
       "      <th>lower TSLA_Close</th>\n",
       "      <th>upper TSLA_Close</th>\n",
       "    </tr>\n",
       "  </thead>\n",
       "  <tbody>\n",
       "    <tr>\n",
       "      <th>2024-01-01</th>\n",
       "      <td>234.083295</td>\n",
       "      <td>260.307740</td>\n",
       "    </tr>\n",
       "    <tr>\n",
       "      <th>2024-01-02</th>\n",
       "      <td>230.408478</td>\n",
       "      <td>266.764723</td>\n",
       "    </tr>\n",
       "    <tr>\n",
       "      <th>2024-01-03</th>\n",
       "      <td>225.226319</td>\n",
       "      <td>269.883786</td>\n",
       "    </tr>\n",
       "    <tr>\n",
       "      <th>2024-01-04</th>\n",
       "      <td>225.590998</td>\n",
       "      <td>276.961922</td>\n",
       "    </tr>\n",
       "    <tr>\n",
       "      <th>2024-01-05</th>\n",
       "      <td>221.022748</td>\n",
       "      <td>278.500155</td>\n",
       "    </tr>\n",
       "    <tr>\n",
       "      <th>...</th>\n",
       "      <td>...</td>\n",
       "      <td>...</td>\n",
       "    </tr>\n",
       "    <tr>\n",
       "      <th>2025-07-24</th>\n",
       "      <td>-6062.130556</td>\n",
       "      <td>6430.631659</td>\n",
       "    </tr>\n",
       "    <tr>\n",
       "      <th>2025-07-25</th>\n",
       "      <td>-6087.143019</td>\n",
       "      <td>6450.383148</td>\n",
       "    </tr>\n",
       "    <tr>\n",
       "      <th>2025-07-28</th>\n",
       "      <td>-6109.834527</td>\n",
       "      <td>6473.395698</td>\n",
       "    </tr>\n",
       "    <tr>\n",
       "      <th>2025-07-29</th>\n",
       "      <td>-6130.705632</td>\n",
       "      <td>6498.026189</td>\n",
       "    </tr>\n",
       "    <tr>\n",
       "      <th>2025-07-30</th>\n",
       "      <td>-6154.010762</td>\n",
       "      <td>6520.085909</td>\n",
       "    </tr>\n",
       "  </tbody>\n",
       "</table>\n",
       "<p>413 rows × 2 columns</p>\n",
       "</div>"
      ],
      "text/plain": [
       "            lower TSLA_Close  upper TSLA_Close\n",
       "2024-01-01        234.083295        260.307740\n",
       "2024-01-02        230.408478        266.764723\n",
       "2024-01-03        225.226319        269.883786\n",
       "2024-01-04        225.590998        276.961922\n",
       "2024-01-05        221.022748        278.500155\n",
       "...                      ...               ...\n",
       "2025-07-24      -6062.130556       6430.631659\n",
       "2025-07-25      -6087.143019       6450.383148\n",
       "2025-07-28      -6109.834527       6473.395698\n",
       "2025-07-29      -6130.705632       6498.026189\n",
       "2025-07-30      -6154.010762       6520.085909\n",
       "\n",
       "[413 rows x 2 columns]"
      ]
     },
     "execution_count": 105,
     "metadata": {},
     "output_type": "execute_result"
    }
   ],
   "source": [
    "sarima_conf"
   ]
  },
  {
   "cell_type": "code",
   "execution_count": 106,
   "id": "5f58e15c",
   "metadata": {},
   "outputs": [
    {
     "name": "stdout",
     "output_type": "stream",
     "text": [
      "SARIMA Model Summary:\n",
      "                                      SARIMAX Results                                      \n",
      "==========================================================================================\n",
      "Dep. Variable:                         TSLA_Close   No. Observations:                 2218\n",
      "Model:             SARIMAX(1, 1, 1)x(2, 1, [], 5)   Log Likelihood               -7344.241\n",
      "Date:                            Fri, 22 Aug 2025   AIC                          14698.482\n",
      "Time:                                    04:00:11   BIC                          14726.990\n",
      "Sample:                                07-01-2015   HQIC                         14708.896\n",
      "                                     - 12-29-2023                                         \n",
      "Covariance Type:                              opg                                         \n",
      "==============================================================================\n",
      "                 coef    std err          z      P>|z|      [0.025      0.975]\n",
      "------------------------------------------------------------------------------\n",
      "ar.L1         -0.7207      0.114     -6.345      0.000      -0.943      -0.498\n",
      "ma.L1          0.6809      0.119      5.735      0.000       0.448       0.914\n",
      "ar.S.L5       -0.6596      0.012    -56.273      0.000      -0.683      -0.637\n",
      "ar.S.L10      -0.3413      0.010    -32.941      0.000      -0.362      -0.321\n",
      "sigma2        44.7565      0.566     79.133      0.000      43.648      45.865\n",
      "===================================================================================\n",
      "Ljung-Box (L1) (Q):                   0.36   Jarque-Bera (JB):              8545.43\n",
      "Prob(Q):                              0.55   Prob(JB):                         0.00\n",
      "Heteroskedasticity (H):             444.06   Skew:                            -0.16\n",
      "Prob(H) (two-sided):                  0.00   Kurtosis:                        12.62\n",
      "===================================================================================\n",
      "\n",
      "Warnings:\n",
      "[1] Covariance matrix calculated using the outer product of gradients (complex-step).\n"
     ]
    }
   ],
   "source": [
    "print(\"SARIMA Model Summary:\\n\", sarima_fit.summary())"
   ]
  },
  {
   "cell_type": "markdown",
   "id": "ec90a27e",
   "metadata": {},
   "source": [
    "### Step 3: LSTM Model"
   ]
  },
  {
   "cell_type": "code",
   "execution_count": 107,
   "id": "43bf1f90",
   "metadata": {},
   "outputs": [],
   "source": [
    "# Step 3: LSTM Model\n",
    "scaler = MinMaxScaler()\n",
    "train_scaled = scaler.fit_transform(train.values.reshape(-1, 1))\n",
    "test_scaled = scaler.transform(test.values.reshape(-1, 1))"
   ]
  },
  {
   "cell_type": "code",
   "execution_count": 108,
   "id": "9997f4eb",
   "metadata": {},
   "outputs": [],
   "source": [
    "from forecast import create_sequences"
   ]
  },
  {
   "cell_type": "code",
   "execution_count": 109,
   "id": "dea9daf9",
   "metadata": {},
   "outputs": [],
   "source": [
    "seq_length = 60\n",
    "X_train, y_train = create_sequences(train_scaled, seq_length)\n",
    "X_test, y_test = create_sequences(np.concatenate((train_scaled[-seq_length:], test_scaled)), seq_length)  # For forecasting\n",
    "\n",
    "# To PyTorch tensors\n",
    "X_train = torch.from_numpy(X_train).float()\n",
    "y_train = torch.from_numpy(y_train).float()\n",
    "X_test = torch.from_numpy(X_test).float()\n"
   ]
  },
  {
   "cell_type": "code",
   "execution_count": 110,
   "id": "19f0a1dc",
   "metadata": {},
   "outputs": [],
   "source": [
    "from forecast import TimeSeriesDataset\n",
    "from forecast import LSTMModel"
   ]
  },
  {
   "cell_type": "code",
   "execution_count": 111,
   "id": "7e594bcd",
   "metadata": {},
   "outputs": [],
   "source": [
    "train_dataset = TimeSeriesDataset(X_train, y_train)\n",
    "train_loader = DataLoader(train_dataset, batch_size=32, shuffle=True)"
   ]
  },
  {
   "cell_type": "code",
   "execution_count": 112,
   "id": "8cf4305b",
   "metadata": {},
   "outputs": [
    {
     "name": "stdout",
     "output_type": "stream",
     "text": [
      "Epoch 0, Loss: 0.0009\n",
      "Epoch 10, Loss: 0.0003\n",
      "Early stopping triggered\n"
     ]
    }
   ],
   "source": [
    "model = LSTMModel()\n",
    "criterion = nn.MSELoss()\n",
    "optimizer = torch.optim.Adam(model.parameters(), lr=0.001)\n",
    "\n",
    "# Train LSTM\n",
    "epochs = 100  # Hyperparameter; can tune\n",
    "from torch.nn.utils import clip_grad_norm_\n",
    "best_loss = float('inf')\n",
    "patience = 10\n",
    "trigger_times = 0\n",
    "for epoch in range(epochs):\n",
    "    model.train()\n",
    "    for X_batch, y_batch in train_loader:\n",
    "        optimizer.zero_grad()\n",
    "        output = model(X_batch)\n",
    "        loss = criterion(output, y_batch)\n",
    "        loss.backward()\n",
    "        clip_grad_norm_(model.parameters(), max_norm=1.0)\n",
    "        optimizer.step()\n",
    "    if epoch % 10 == 0:\n",
    "        print(f'Epoch {epoch}, Loss: {loss.item():.4f}')\n",
    "    if loss.item() < best_loss:\n",
    "        best_loss = loss.item()\n",
    "        trigger_times = 0\n",
    "    else:\n",
    "        trigger_times += 1\n",
    "        if trigger_times >= patience:\n",
    "            print(\"Early stopping triggered\")\n",
    "            break\n",
    "\n",
    "# Forecast with LSTM (one-step ahead for test)\n",
    "model.eval()\n",
    "with torch.no_grad():\n",
    "    lstm_pred_scaled = model(X_test).numpy()\n",
    "lstm_pred = scaler.inverse_transform(lstm_pred_scaled)\n",
    "\n",
    "# Align predictions with test index (shift by seq_length)\n",
    "lstm_pred = pd.Series(lstm_pred.flatten(), index=test.index)\n"
   ]
  },
  {
   "cell_type": "code",
   "execution_count": 113,
   "id": "68719ed7",
   "metadata": {},
   "outputs": [],
   "source": [
    "from forecast import calculate_metrics"
   ]
  },
  {
   "cell_type": "code",
   "execution_count": 114,
   "id": "b0421fe2",
   "metadata": {},
   "outputs": [],
   "source": [
    "# SARIMA Metrics\n",
    "sarima_mae, sarima_rmse, sarima_mape = calculate_metrics(test, sarima_pred)\n",
    "\n",
    "# LSTM Metrics (align lengths if needed)\n",
    "lstm_mae, lstm_rmse, lstm_mape = calculate_metrics(test, lstm_pred)"
   ]
  },
  {
   "cell_type": "code",
   "execution_count": 115,
   "id": "7c634765",
   "metadata": {},
   "outputs": [
    {
     "name": "stdout",
     "output_type": "stream",
     "text": [
      "\n",
      "SARIMA Metrics: MAE=82.78, RMSE=103.37, MAPE=29.18%\n",
      "LSTM Metrics: MAE=12.28, RMSE=16.36, MAPE=4.72%\n"
     ]
    }
   ],
   "source": [
    "print(\"\\nSARIMA Metrics: MAE={:.2f}, RMSE={:.2f}, MAPE={:.2f}%\".format(sarima_mae, sarima_rmse, sarima_mape))\n",
    "print(\"LSTM Metrics: MAE={:.2f}, RMSE={:.2f}, MAPE={:.2f}%\".format(lstm_mae, lstm_rmse, lstm_mape))\n"
   ]
  },
  {
   "cell_type": "markdown",
   "id": "09702514",
   "metadata": {},
   "source": [
    "### Step 5: Plot Forecasts"
   ]
  },
  {
   "cell_type": "code",
   "execution_count": 116,
   "id": "945d9de0",
   "metadata": {},
   "outputs": [
    {
     "data": {
      "image/png": "[encoded data removed]",
      "text/plain": [
       "<Figure size 1200x600 with 1 Axes>"
      ]
     },
     "metadata": {},
     "output_type": "display_data"
    }
   ],
   "source": [
    "# Step 5: Plot Forecasts\n",
    "plt.figure(figsize=(12, 6))\n",
    "plt.plot(train.index, train, label='Train')\n",
    "plt.plot(test.index, test, label='Test')\n",
    "plt.plot(test.index, sarima_pred, label='SARIMA Forecast')\n",
    "plt.plot(test.index, lstm_pred, label='LSTM Forecast')\n",
    "plt.fill_between(test.index, sarima_conf['lower TSLA_Close'] , sarima_conf['upper TSLA_Close'] , color='gray', alpha=0.2, label='SARIMA 95% CI')\n",
    "plt.title('TSLA Stock Price Forecast Comparison')\n",
    "plt.xlabel('Date')\n",
    "plt.ylabel('Adj Close Price')\n",
    "plt.legend()\n",
    "plt.grid()\n",
    "plt.show()"
   ]
  },
  {
   "cell_type": "markdown",
   "id": "3a025353",
   "metadata": {},
   "source": [
    "These metrics indicate how well each model predicts TSLA’s adjusted closing prices over the test period (January 1, 2024, to July 31, 2025). Below, I’ll analyze the performance, discuss why the LSTM outperforms SARIMA, and provide recommendations for improvement, as requested in Task 2. I’ll also address the context of the models (SARIMA with auto_arima optimization and LSTM with a 2-layer, 50-unit architecture, trained on 2015–2023 data) and suggest next steps."
   ]
  }
 ],
 "metadata": {
  "kernelspec": {
   "display_name": ".tsenv",
   "language": "python",
   "name": "python3"
  },
  "language_info": {
   "codemirror_mode": {
    "name": "ipython",
    "version": 3
   },
   "file_extension": ".py",
   "mimetype": "text/x-python",
   "name": "python",
   "nbconvert_exporter": "python",
   "pygments_lexer": "ipython3",
   "version": "3.12.10"
  }
 },
 "nbformat": 4,
 "nbformat_minor": 5
}
