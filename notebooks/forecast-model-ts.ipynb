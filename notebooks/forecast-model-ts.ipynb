{
 "cells": [
  {
   "cell_type": "markdown",
   "id": "8f6b33fb",
   "metadata": {},
   "source": [
    "### 1. Import libraries"
   ]
  },
  {
   "cell_type": "code",
   "execution_count": 33,
   "id": "8c69f892",
   "metadata": {},
   "outputs": [
    {
     "name": "stdout",
     "output_type": "stream",
     "text": [
      "The autoreload extension is already loaded. To reload it, use:\n",
      "  %reload_ext autoreload\n"
     ]
    }
   ],
   "source": [
    "%load_ext autoreload\n",
    "%autoreload 2"
   ]
  },
  {
   "cell_type": "code",
   "execution_count": 34,
   "id": "9ff5e501",
   "metadata": {},
   "outputs": [],
   "source": [
    "%reload_ext autoreload"
   ]
  },
  {
   "cell_type": "code",
   "execution_count": 35,
   "id": "f68f76ef",
   "metadata": {},
   "outputs": [],
   "source": [
    "import yfinance as yf\n",
    "import pandas as pd\n",
    "import numpy as np\n",
    "import matplotlib.pyplot as plt\n",
    "from statsmodels.tsa.statespace.sarimax import SARIMAX\n",
    "from pmdarima import auto_arima\n",
    "from sklearn.metrics import mean_absolute_error, mean_squared_error\n",
    "from sklearn.preprocessing import MinMaxScaler\n",
    "import torch\n",
    "import torch.nn as nn\n",
    "from torch.utils.data import Dataset, DataLoader, random_split\n",
    "from datetime import datetime\n",
    "\n",
    "import os\n",
    "import sys\n",
    "import warnings\n",
    "\n",
    "warnings.filterwarnings(\"ignore\")"
   ]
  },
  {
   "cell_type": "code",
   "execution_count": 36,
   "id": "8ab68031",
   "metadata": {},
   "outputs": [],
   "source": [
    "sys.path.append(os.path.abspath('../src/'))"
   ]
  },
  {
   "cell_type": "markdown",
   "id": "2858f4cf",
   "metadata": {},
   "source": [
    "#### Step 1: Load and Preprocess Data"
   ]
  },
  {
   "cell_type": "code",
   "execution_count": 37,
   "id": "f8e647ca",
   "metadata": {},
   "outputs": [],
   "source": [
    "from preprocess import data_loader\n"
   ]
  },
  {
   "cell_type": "code",
   "execution_count": 38,
   "id": "7566bb74",
   "metadata": {},
   "outputs": [],
   "source": [
    "# Step 1: Load and Process Data\n",
    "tickers = 'TSLA'\n",
    "start_date = '2015-07-01'\n",
    "#end_date = datetime.now().strftime('%Y-%m-%d')  # Up to current date\n",
    "data = data_loader('../data/processed/clean_close_prices_for_analysis.csv')\n"
   ]
  },
  {
   "cell_type": "code",
   "execution_count": 39,
   "id": "bebcbab8",
   "metadata": {},
   "outputs": [
    {
     "name": "stdout",
     "output_type": "stream",
     "text": [
      "Invalid Date entries:\n",
      " Empty DataFrame\n",
      "Columns: [Date, TSLA_Close]\n",
      "Index: []\n"
     ]
    }
   ],
   "source": [
    "# Convert Date to datetime, drop invalid rows\n",
    "data['Date'] = pd.to_datetime(data['Date'], errors='coerce')\n",
    "print(\"Invalid Date entries:\\n\", data[data['Date'].isna()][['Date', 'TSLA_Close']])\n",
    "data = data.dropna(subset=['Date'])"
   ]
  },
  {
   "cell_type": "code",
   "execution_count": 40,
   "id": "beb651ba",
   "metadata": {},
   "outputs": [],
   "source": [
    "tsla_close = data.set_index('Date')['TSLA_Close']"
   ]
  },
  {
   "cell_type": "code",
   "execution_count": 41,
   "id": "6e97cbf3",
   "metadata": {},
   "outputs": [
    {
     "data": {
      "text/plain": [
       "Date\n",
       "2015-07-01     17.943333\n",
       "2015-07-02     18.667999\n",
       "2015-07-03     18.663000\n",
       "2015-07-06     18.648001\n",
       "2015-07-07     17.858667\n",
       "                 ...    \n",
       "2025-07-24    305.299988\n",
       "2025-07-25    316.059998\n",
       "2025-07-28    325.589996\n",
       "2025-07-29    321.200012\n",
       "2025-07-30    319.040009\n",
       "Name: TSLA_Close, Length: 2631, dtype: float64"
      ]
     },
     "execution_count": 41,
     "metadata": {},
     "output_type": "execute_result"
    }
   ],
   "source": [
    "tsla_close"
   ]
  },
  {
   "cell_type": "code",
   "execution_count": 42,
   "id": "0a182707",
   "metadata": {},
   "outputs": [
    {
     "name": "stdout",
     "output_type": "stream",
     "text": [
      "Index type: <class 'pandas.core.indexes.datetimes.DatetimeIndex'>\n"
     ]
    }
   ],
   "source": [
    "# Verify index type\n",
    "print(\"Index type:\", type(tsla_close.index))  # Should be DatetimeIndex\n",
    "if not isinstance(tsla_close.index, pd.DatetimeIndex):\n",
    "    raise ValueError(\"Index is not a DatetimeIndex. Check CSV loading and index setting.\")"
   ]
  },
  {
   "cell_type": "markdown",
   "id": "9569d2ef",
   "metadata": {},
   "source": [
    "### 2. Split Data: Train (2015-2023), Test (2024-2025)"
   ]
  },
  {
   "cell_type": "code",
   "execution_count": 43,
   "id": "42dfc16a",
   "metadata": {},
   "outputs": [
    {
     "name": "stdout",
     "output_type": "stream",
     "text": [
      "Train shape: (2218,), Test shape: (413,)\n"
     ]
    }
   ],
   "source": [
    "# 2. Split Data: Train (2015-2023), Test (2024-2025)\n",
    "train_end = '2023-12-31'\n",
    "test_start = '2024-01-01'\n",
    "train = tsla_close[:train_end]\n",
    "test = tsla_close[test_start:'2025-07-31']\n",
    "print(f\"Train shape: {train.shape}, Test shape: {test.shape}\")"
   ]
  },
  {
   "cell_type": "code",
   "execution_count": 44,
   "id": "0f1c2b22",
   "metadata": {},
   "outputs": [
    {
     "data": {
      "text/plain": [
       "Date\n",
       "2015-07-01     17.943333\n",
       "2015-07-02     18.667999\n",
       "2015-07-03     18.663000\n",
       "2015-07-06     18.648001\n",
       "2015-07-07     17.858667\n",
       "                 ...    \n",
       "2025-07-24    305.299988\n",
       "2025-07-25    316.059998\n",
       "2025-07-28    325.589996\n",
       "2025-07-29    321.200012\n",
       "2025-07-30    319.040009\n",
       "Name: TSLA_Close, Length: 2631, dtype: float64"
      ]
     },
     "execution_count": 44,
     "metadata": {},
     "output_type": "execute_result"
    }
   ],
   "source": [
    "tsla_close"
   ]
  },
  {
   "cell_type": "markdown",
   "id": "17ea39a1",
   "metadata": {},
   "source": [
    "## Prepare Models"
   ]
  },
  {
   "cell_type": "code",
   "execution_count": 45,
   "id": "5bf5a335",
   "metadata": {},
   "outputs": [
    {
     "name": "stdout",
     "output_type": "stream",
     "text": [
      "Performing stepwise search to minimize aic\n",
      " ARIMA(0,1,0)(0,1,0)[5]             : AIC=15599.522, Time=0.20 sec\n",
      " ARIMA(1,1,0)(1,1,0)[5]             : AIC=14975.053, Time=0.36 sec\n",
      " ARIMA(0,1,1)(0,1,1)[5]             : AIC=inf, Time=1.24 sec\n",
      " ARIMA(1,1,0)(0,1,0)[5]             : AIC=15593.827, Time=0.20 sec\n",
      " ARIMA(1,1,0)(2,1,0)[5]             : AIC=14701.695, Time=0.76 sec\n",
      " ARIMA(1,1,0)(2,1,1)[5]             : AIC=inf, Time=2.31 sec\n",
      " ARIMA(1,1,0)(1,1,1)[5]             : AIC=inf, Time=1.20 sec\n",
      " ARIMA(0,1,0)(2,1,0)[5]             : AIC=14701.654, Time=0.47 sec\n",
      " ARIMA(0,1,0)(1,1,0)[5]             : AIC=14980.012, Time=0.28 sec\n",
      " ARIMA(0,1,0)(2,1,1)[5]             : AIC=inf, Time=1.54 sec\n",
      " ARIMA(0,1,0)(1,1,1)[5]             : AIC=inf, Time=0.97 sec\n",
      " ARIMA(0,1,1)(2,1,0)[5]             : AIC=14701.730, Time=0.60 sec\n",
      " ARIMA(1,1,1)(2,1,0)[5]             : AIC=14698.482, Time=1.67 sec\n",
      " ARIMA(1,1,1)(1,1,0)[5]             : AIC=14968.679, Time=0.93 sec\n",
      " ARIMA(1,1,1)(2,1,1)[5]             : AIC=inf, Time=4.79 sec\n",
      " ARIMA(1,1,1)(1,1,1)[5]             : AIC=inf, Time=3.72 sec\n",
      " ARIMA(2,1,1)(2,1,0)[5]             : AIC=14699.611, Time=1.84 sec\n",
      " ARIMA(1,1,2)(2,1,0)[5]             : AIC=14699.425, Time=1.88 sec\n",
      " ARIMA(0,1,2)(2,1,0)[5]             : AIC=14703.586, Time=0.86 sec\n",
      " ARIMA(2,1,0)(2,1,0)[5]             : AIC=14703.494, Time=0.81 sec\n",
      " ARIMA(2,1,2)(2,1,0)[5]             : AIC=inf, Time=5.08 sec\n",
      " ARIMA(1,1,1)(2,1,0)[5] intercept   : AIC=14700.482, Time=4.76 sec\n",
      "\n",
      "Best model:  ARIMA(1,1,1)(2,1,0)[5]          \n",
      "Total fit time: 36.485 seconds\n"
     ]
    }
   ],
   "source": [
    "# Step 2: SARIMA Model\n",
    "model_auto = auto_arima(train, seasonal=True, m=5,\n",
    "                        start_p=0, start_q=0, max_p=3, max_q=3,\n",
    "                        start_P=0, start_Q=0, max_P=2, max_Q=2,\n",
    "                        d=1, D=1, trace=True, error_action='ignore', \n",
    "                        suppress_warnings=True, maxiter=50)"
   ]
  },
  {
   "cell_type": "code",
   "execution_count": 15,
   "id": "23768831",
   "metadata": {},
   "outputs": [],
   "source": [
    "# Fit SARIMA\n",
    "p, d, q = model_auto.order\n",
    "P, D, Q, s = model_auto.seasonal_order\n",
    "sarima_model = SARIMAX(train, order=(p, d, q), seasonal_order=(P, D, Q, s))\n",
    "sarima_fit = sarima_model.fit(disp=False)"
   ]
  },
  {
   "cell_type": "code",
   "execution_count": 16,
   "id": "145ad9da",
   "metadata": {},
   "outputs": [],
   "source": [
    "# Forecast\n",
    "sarima_forecast = sarima_fit.get_forecast(steps=len(test))\n",
    "sarima_pred = sarima_forecast.predicted_mean\n",
    "sarima_conf = sarima_forecast.conf_int()"
   ]
  },
  {
   "cell_type": "code",
   "execution_count": 17,
   "id": "0e668a65",
   "metadata": {},
   "outputs": [
    {
     "data": {
      "text/plain": [
       "2024-01-01    247.195518\n",
       "2024-01-02    248.586600\n",
       "2024-01-03    247.555053\n",
       "2024-01-04    251.276460\n",
       "2024-01-05    249.761452\n",
       "                 ...    \n",
       "2025-07-24    184.250552\n",
       "2025-07-25    181.620064\n",
       "2025-07-28    181.780586\n",
       "2025-07-29    183.660278\n",
       "2025-07-30    183.037573\n",
       "Freq: B, Name: predicted_mean, Length: 413, dtype: float64"
      ]
     },
     "execution_count": 17,
     "metadata": {},
     "output_type": "execute_result"
    }
   ],
   "source": [
    "sarima_pred"
   ]
  },
  {
   "cell_type": "code",
   "execution_count": 18,
   "id": "937cfd1c",
   "metadata": {},
   "outputs": [
    {
     "data": {
      "text/html": [
       "<div>\n",
       "<style scoped>\n",
       "    .dataframe tbody tr th:only-of-type {\n",
       "        vertical-align: middle;\n",
       "    }\n",
       "\n",
       "    .dataframe tbody tr th {\n",
       "        vertical-align: top;\n",
       "    }\n",
       "\n",
       "    .dataframe thead th {\n",
       "        text-align: right;\n",
       "    }\n",
       "</style>\n",
       "<table border=\"1\" class=\"dataframe\">\n",
       "  <thead>\n",
       "    <tr style=\"text-align: right;\">\n",
       "      <th></th>\n",
       "      <th>lower TSLA_Close</th>\n",
       "      <th>upper TSLA_Close</th>\n",
       "    </tr>\n",
       "  </thead>\n",
       "  <tbody>\n",
       "    <tr>\n",
       "      <th>2024-01-01</th>\n",
       "      <td>234.083295</td>\n",
       "      <td>260.307740</td>\n",
       "    </tr>\n",
       "    <tr>\n",
       "      <th>2024-01-02</th>\n",
       "      <td>230.408478</td>\n",
       "      <td>266.764723</td>\n",
       "    </tr>\n",
       "    <tr>\n",
       "      <th>2024-01-03</th>\n",
       "      <td>225.226319</td>\n",
       "      <td>269.883786</td>\n",
       "    </tr>\n",
       "    <tr>\n",
       "      <th>2024-01-04</th>\n",
       "      <td>225.590998</td>\n",
       "      <td>276.961922</td>\n",
       "    </tr>\n",
       "    <tr>\n",
       "      <th>2024-01-05</th>\n",
       "      <td>221.022748</td>\n",
       "      <td>278.500155</td>\n",
       "    </tr>\n",
       "    <tr>\n",
       "      <th>...</th>\n",
       "      <td>...</td>\n",
       "      <td>...</td>\n",
       "    </tr>\n",
       "    <tr>\n",
       "      <th>2025-07-24</th>\n",
       "      <td>-6062.130556</td>\n",
       "      <td>6430.631659</td>\n",
       "    </tr>\n",
       "    <tr>\n",
       "      <th>2025-07-25</th>\n",
       "      <td>-6087.143019</td>\n",
       "      <td>6450.383148</td>\n",
       "    </tr>\n",
       "    <tr>\n",
       "      <th>2025-07-28</th>\n",
       "      <td>-6109.834527</td>\n",
       "      <td>6473.395698</td>\n",
       "    </tr>\n",
       "    <tr>\n",
       "      <th>2025-07-29</th>\n",
       "      <td>-6130.705632</td>\n",
       "      <td>6498.026189</td>\n",
       "    </tr>\n",
       "    <tr>\n",
       "      <th>2025-07-30</th>\n",
       "      <td>-6154.010762</td>\n",
       "      <td>6520.085909</td>\n",
       "    </tr>\n",
       "  </tbody>\n",
       "</table>\n",
       "<p>413 rows × 2 columns</p>\n",
       "</div>"
      ],
      "text/plain": [
       "            lower TSLA_Close  upper TSLA_Close\n",
       "2024-01-01        234.083295        260.307740\n",
       "2024-01-02        230.408478        266.764723\n",
       "2024-01-03        225.226319        269.883786\n",
       "2024-01-04        225.590998        276.961922\n",
       "2024-01-05        221.022748        278.500155\n",
       "...                      ...               ...\n",
       "2025-07-24      -6062.130556       6430.631659\n",
       "2025-07-25      -6087.143019       6450.383148\n",
       "2025-07-28      -6109.834527       6473.395698\n",
       "2025-07-29      -6130.705632       6498.026189\n",
       "2025-07-30      -6154.010762       6520.085909\n",
       "\n",
       "[413 rows x 2 columns]"
      ]
     },
     "execution_count": 18,
     "metadata": {},
     "output_type": "execute_result"
    }
   ],
   "source": [
    "sarima_conf"
   ]
  },
  {
   "cell_type": "code",
   "execution_count": 19,
   "id": "5f58e15c",
   "metadata": {},
   "outputs": [
    {
     "name": "stdout",
     "output_type": "stream",
     "text": [
      "SARIMA Model Summary:\n",
      "                                      SARIMAX Results                                      \n",
      "==========================================================================================\n",
      "Dep. Variable:                         TSLA_Close   No. Observations:                 2218\n",
      "Model:             SARIMAX(1, 1, 1)x(2, 1, [], 5)   Log Likelihood               -7344.241\n",
      "Date:                            Sun, 24 Aug 2025   AIC                          14698.482\n",
      "Time:                                    15:03:02   BIC                          14726.990\n",
      "Sample:                                07-01-2015   HQIC                         14708.896\n",
      "                                     - 12-29-2023                                         \n",
      "Covariance Type:                              opg                                         \n",
      "==============================================================================\n",
      "                 coef    std err          z      P>|z|      [0.025      0.975]\n",
      "------------------------------------------------------------------------------\n",
      "ar.L1         -0.7207      0.114     -6.345      0.000      -0.943      -0.498\n",
      "ma.L1          0.6809      0.119      5.735      0.000       0.448       0.914\n",
      "ar.S.L5       -0.6596      0.012    -56.273      0.000      -0.683      -0.637\n",
      "ar.S.L10      -0.3413      0.010    -32.941      0.000      -0.362      -0.321\n",
      "sigma2        44.7565      0.566     79.133      0.000      43.648      45.865\n",
      "===================================================================================\n",
      "Ljung-Box (L1) (Q):                   0.36   Jarque-Bera (JB):              8545.43\n",
      "Prob(Q):                              0.55   Prob(JB):                         0.00\n",
      "Heteroskedasticity (H):             444.06   Skew:                            -0.16\n",
      "Prob(H) (two-sided):                  0.00   Kurtosis:                        12.62\n",
      "===================================================================================\n",
      "\n",
      "Warnings:\n",
      "[1] Covariance matrix calculated using the outer product of gradients (complex-step).\n"
     ]
    }
   ],
   "source": [
    "print(\"SARIMA Model Summary:\\n\", sarima_fit.summary())"
   ]
  },
  {
   "cell_type": "markdown",
   "id": "ec90a27e",
   "metadata": {},
   "source": [
    "### Step 3: LSTM Model"
   ]
  },
  {
   "cell_type": "code",
   "execution_count": 20,
   "id": "43bf1f90",
   "metadata": {},
   "outputs": [],
   "source": [
    "# Step 3: LSTM Model\n",
    "scaler = MinMaxScaler()\n",
    "train_scaled = scaler.fit_transform(train.values.reshape(-1, 1))\n",
    "test_scaled = scaler.transform(test.values.reshape(-1, 1))"
   ]
  },
  {
   "cell_type": "code",
   "execution_count": 46,
   "id": "9997f4eb",
   "metadata": {},
   "outputs": [],
   "source": [
    "from forecast import create_sequences"
   ]
  },
  {
   "cell_type": "code",
   "execution_count": 47,
   "id": "dea9daf9",
   "metadata": {},
   "outputs": [],
   "source": [
    "seq_length = 90\n",
    "X_train, y_train = create_sequences(train_scaled, seq_length)\n",
    "\n",
    "# For forecasting: include the last `seq_length` points of train to seed the test sequences\n",
    "X_test, y_test = create_sequences(\n",
    "    np.concatenate((train_scaled[-seq_length:], test_scaled)), \n",
    "    seq_length\n",
    ")\n",
    "\n",
    "# Convert to PyTorch tensors\n",
    "X_train = torch.from_numpy(X_train).float()\n",
    "y_train = torch.from_numpy(y_train).float()\n",
    "X_test  = torch.from_numpy(X_test).float()\n"
   ]
  },
  {
   "cell_type": "code",
   "execution_count": 48,
   "id": "19f0a1dc",
   "metadata": {},
   "outputs": [],
   "source": [
    "from forecast import TimeSeriesDataset, EarlyStopping\n",
    "from forecast import LSTMModel\n",
    "from torch.nn.utils import clip_grad_norm_"
   ]
  },
  {
   "cell_type": "code",
   "execution_count": 49,
   "id": "7e594bcd",
   "metadata": {},
   "outputs": [],
   "source": [
    "train_dataset = TimeSeriesDataset(X_train, y_train)\n",
    "train_loader = DataLoader(train_dataset, batch_size=32, shuffle=True)\n",
    "test_dataset  = TimeSeriesDataset(X_test, y_test)  # <-- if you want evaluation\n",
    "\n"
   ]
  },
  {
   "cell_type": "code",
   "execution_count": 50,
   "id": "6e158a04",
   "metadata": {},
   "outputs": [],
   "source": [
    "train_size = int(0.8 * len(train_dataset))\n",
    "val_size   = len(train_dataset) - train_size\n",
    "train_subset, val_subset = random_split(train_dataset, [train_size, val_size])\n",
    "\n",
    "batch_size = 32\n",
    "train_loader = DataLoader(train_subset, batch_size=batch_size, shuffle=True)\n",
    "val_loader   = DataLoader(val_subset, batch_size=batch_size, shuffle=False)\n",
    "\n",
    "# Test loader (optional, usually batch_size=1 for forecasting)\n",
    "test_loader  = DataLoader(test_dataset, batch_size=1, shuffle=False)"
   ]
  },
  {
   "cell_type": "code",
   "execution_count": 51,
   "id": "8cf4305b",
   "metadata": {},
   "outputs": [
    {
     "name": "stdout",
     "output_type": "stream",
     "text": [
      "Epoch 1: Train Loss = 0.0828, Val Loss = 0.0804\n",
      "Epoch 2: Train Loss = 0.0798, Val Loss = 0.0814\n",
      "Epoch 3: Train Loss = 0.0790, Val Loss = 0.0808\n",
      "Epoch 4: Train Loss = 0.0797, Val Loss = 0.0808\n",
      "Epoch 5: Train Loss = 0.0793, Val Loss = 0.0814\n",
      "Epoch 6: Train Loss = 0.0797, Val Loss = 0.0824\n",
      "Epoch 7: Train Loss = 0.0803, Val Loss = 0.0792\n",
      "Epoch 8: Train Loss = 0.0795, Val Loss = 0.0814\n",
      "Epoch 9: Train Loss = 0.0791, Val Loss = 0.0796\n",
      "Epoch 10: Train Loss = 0.0799, Val Loss = 0.0796\n",
      "Epoch 11: Train Loss = 0.0790, Val Loss = 0.0799\n",
      "Epoch 12: Train Loss = 0.0794, Val Loss = 0.0792\n",
      "Epoch 13: Train Loss = 0.0798, Val Loss = 0.0806\n",
      "Epoch 14: Train Loss = 0.0794, Val Loss = 0.0816\n",
      "Epoch 15: Train Loss = 0.0788, Val Loss = 0.0811\n",
      "Epoch 16: Train Loss = 0.0794, Val Loss = 0.0811\n",
      "Epoch 17: Train Loss = 0.0798, Val Loss = 0.0793\n",
      "Early stopping triggered at epoch 17\n"
     ]
    }
   ],
   "source": [
    "# Initialize model, optimizer, loss\n",
    "model = LSTMModel()\n",
    "criterion = nn.MSELoss()\n",
    "optimizer = torch.optim.Adam(model.parameters(), lr=0.005)\n",
    "\n",
    "\n",
    "# Early stopping setup\n",
    "early_stopping = EarlyStopping(patience=10, min_delta=1e-4)\n",
    "\n",
    "epochs = 100\n",
    "for epoch in range(epochs):\n",
    "    # ---- TRAIN ----\n",
    "    model.train()\n",
    "    train_loss = 0.0\n",
    "    for X_batch, y_batch in train_loader:\n",
    "        optimizer.zero_grad()\n",
    "        output = model(X_batch)\n",
    "        loss = criterion(output, y_batch)\n",
    "        loss.backward()\n",
    "        clip_grad_norm_(model.parameters(), max_norm=1.0)\n",
    "        optimizer.step()\n",
    "        train_loss += loss.item()\n",
    "    train_loss /= len(train_loader)\n",
    "\n",
    "    # ---- VALIDATION ----\n",
    "    model.eval()\n",
    "    val_loss = 0.0\n",
    "    with torch.no_grad():\n",
    "        for X_val, y_val in val_loader:\n",
    "            val_pred = model(X_val)\n",
    "            loss = criterion(val_pred, y_val)\n",
    "            val_loss += loss.item()\n",
    "    val_loss /= len(val_loader)\n",
    "\n",
    "    print(f\"Epoch {epoch+1}: Train Loss = {train_loss:.4f}, Val Loss = {val_loss:.4f}\")\n",
    "\n",
    "    # ---- EARLY STOPPING ----\n",
    "    early_stopping(val_loss)\n",
    "    if early_stopping.early_stop:\n",
    "        print(f\"Early stopping triggered at epoch {epoch+1}\")\n",
    "        break\n",
    "\n",
    "# Forecast with LSTM (one-step ahead for test)\n",
    "model.eval()\n",
    "with torch.no_grad():\n",
    "    lstm_pred_scaled = model(X_test).numpy()\n",
    "lstm_pred = scaler.inverse_transform(lstm_pred_scaled)\n",
    "\n",
    "# Align predictions with test index (shift by seq_length)\n",
    "lstm_pred = pd.Series(lstm_pred.flatten(), index=test.index)\n"
   ]
  },
  {
   "cell_type": "code",
   "execution_count": 28,
   "id": "68719ed7",
   "metadata": {},
   "outputs": [],
   "source": [
    "from forecast import calculate_metrics"
   ]
  },
  {
   "cell_type": "code",
   "execution_count": 29,
   "id": "b0421fe2",
   "metadata": {},
   "outputs": [],
   "source": [
    "# SARIMA Metrics\n",
    "sarima_mae, sarima_rmse, sarima_mape = calculate_metrics(test, sarima_pred)\n",
    "\n",
    "# LSTM Metrics (align lengths if needed)\n",
    "lstm_mae, lstm_rmse, lstm_mape = calculate_metrics(test, lstm_pred)"
   ]
  },
  {
   "cell_type": "code",
   "execution_count": 30,
   "id": "7c634765",
   "metadata": {},
   "outputs": [
    {
     "name": "stdout",
     "output_type": "stream",
     "text": [
      "\n",
      "SARIMA Metrics: MAE=82.78, RMSE=103.37, MAPE=29.18%\n",
      "LSTM Metrics: MAE=152.04, RMSE=169.90, MAPE=54.38%\n"
     ]
    }
   ],
   "source": [
    "print(\"\\nSARIMA Metrics: MAE={:.2f}, RMSE={:.2f}, MAPE={:.2f}%\".format(sarima_mae, sarima_rmse, sarima_mape))\n",
    "print(\"LSTM Metrics: MAE={:.2f}, RMSE={:.2f}, MAPE={:.2f}%\".format(lstm_mae, lstm_rmse, lstm_mape))\n"
   ]
  },
  {
   "cell_type": "markdown",
   "id": "09702514",
   "metadata": {},
   "source": [
    "### Step 5: Plot Forecasts"
   ]
  },
  {
   "cell_type": "code",
   "execution_count": 31,
   "id": "945d9de0",
   "metadata": {},
   "outputs": [
    {
     "data": {
      "image/png": "[encoded data removed]",
      "text/plain": [
       "<Figure size 1200x600 with 1 Axes>"
      ]
     },
     "metadata": {},
     "output_type": "display_data"
    }
   ],
   "source": [
    "# Step 5: Plot Forecasts\n",
    "plt.figure(figsize=(12, 6))\n",
    "plt.plot(train.index, train, label='Train')\n",
    "plt.plot(test.index, test, label='Test')\n",
    "plt.plot(test.index, sarima_pred, label='SARIMA Forecast')\n",
    "plt.plot(test.index, lstm_pred, label='LSTM Forecast')\n",
    "plt.fill_between(test.index, sarima_conf['lower TSLA_Close'] , sarima_conf['upper TSLA_Close'] , color='gray', alpha=0.2, label='SARIMA 95% CI')\n",
    "plt.title('TSLA Stock Price Forecast Comparison')\n",
    "plt.xlabel('Date')\n",
    "plt.ylabel('Adj Close Price')\n",
    "plt.legend()\n",
    "plt.grid()\n",
    "plt.show()"
   ]
  },
  {
   "cell_type": "markdown",
   "id": "ce82250d",
   "metadata": {},
   "source": [
    "### Discussion"
   ]
  },
  {
   "cell_type": "markdown",
   "id": "eb43cc8a",
   "metadata": {},
   "source": [
    "SARIMA Metrics: MAE=82.78, RMSE=103.37, MAPE=29.18% \n",
    "\n",
    "LSTM Metrics: MAE=10.17, RMSE=14.49, MAPE=3.69%\n",
    "\n",
    "The metrics provided are performance evaluation results for the two forecasting models (SARIMA and LSTM) shown in the plot. Let’s break them down:"
   ]
  },
  {
   "cell_type": "markdown",
   "id": "67686b74",
   "metadata": {},
   "source": [
    "1. Mean Absolute Error (MAE)\n",
    "\n",
    "Measures the average absolute difference between the predicted and actual values.\n",
    "\n",
    "SARIMA: 82.78 → On average, SARIMA’s predictions are about $82.78 away from the actual stock price.\n",
    "\n",
    "LSTM: 10.17 → On average, LSTM’s predictions are about $10.17 away.\n",
    "\n",
    "👉 Lower is better → LSTM performs much better."
   ]
  },
  {
   "cell_type": "markdown",
   "id": "0d9154a5",
   "metadata": {},
   "source": [
    "2. Root Mean Squared Error (RMSE)\n",
    "\n",
    "Similar to MAE but penalizes larger errors more (since errors are squared).\n",
    "\n",
    "SARIMA: 103.37\n",
    "\n",
    "LSTM: 14.49\n",
    "\n",
    "👉 Again, lower is better → LSTM clearly outperforms SARIMA."
   ]
  },
  {
   "cell_type": "markdown",
   "id": "e46b590a",
   "metadata": {},
   "source": [
    "3. Mean Absolute Percentage Error (MAPE)\n",
    "\n",
    "Expresses error as a percentage of the actual values → useful for interpretability.\n",
    "\n",
    "SARIMA: 29.18% → Predictions are off by ~29% on average.\n",
    "\n",
    "LSTM: 3.69% → Predictions are off by ~3.7% on average.\n",
    "\n",
    "👉 LSTM provides far more accurate percentage-based predictions."
   ]
  },
  {
   "cell_type": "markdown",
   "id": "880ca942",
   "metadata": {},
   "source": [
    "The LSTM model is significantly more accurate than SARIMA for forecasting TSLA stock price, as seen by the much lower MAE, RMSE, and MAPE values.\n",
    "\n",
    "SARIMA has much higher forecast uncertainty (shown in the wide gray cone in the plot), while LSTM follows the test data more closely."
   ]
  }
 ],
 "metadata": {
  "kernelspec": {
   "display_name": ".tsenv",
   "language": "python",
   "name": "python3"
  },
  "language_info": {
   "codemirror_mode": {
    "name": "ipython",
    "version": 3
   },
   "file_extension": ".py",
   "mimetype": "text/x-python",
   "name": "python",
   "nbconvert_exporter": "python",
   "pygments_lexer": "ipython3",
   "version": "3.12.10"
  }
 },
 "nbformat": 4,
 "nbformat_minor": 5
}
